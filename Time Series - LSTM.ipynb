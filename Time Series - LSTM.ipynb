{
 "cells": [
  {
   "cell_type": "code",
   "execution_count": 1,
   "id": "3842b31d",
   "metadata": {},
   "outputs": [],
   "source": [
    "import pandas as pd\n",
    "import numpy as np\n",
    "import matplotlib.pyplot as plt"
   ]
  },
  {
   "cell_type": "code",
   "execution_count": 2,
   "id": "0491b010",
   "metadata": {},
   "outputs": [],
   "source": [
    "train=pd.read_csv(\"C:/Users/Alisha/Desktop/Files/Google_Stock_Price_Train.csv\")"
   ]
  },
  {
   "cell_type": "code",
   "execution_count": 3,
   "id": "115f2ddd",
   "metadata": {},
   "outputs": [
    {
     "data": {
      "text/html": [
       "<div>\n",
       "<style scoped>\n",
       "    .dataframe tbody tr th:only-of-type {\n",
       "        vertical-align: middle;\n",
       "    }\n",
       "\n",
       "    .dataframe tbody tr th {\n",
       "        vertical-align: top;\n",
       "    }\n",
       "\n",
       "    .dataframe thead th {\n",
       "        text-align: right;\n",
       "    }\n",
       "</style>\n",
       "<table border=\"1\" class=\"dataframe\">\n",
       "  <thead>\n",
       "    <tr style=\"text-align: right;\">\n",
       "      <th></th>\n",
       "      <th>Date</th>\n",
       "      <th>Open</th>\n",
       "      <th>High</th>\n",
       "      <th>Low</th>\n",
       "      <th>Close</th>\n",
       "      <th>Volume</th>\n",
       "    </tr>\n",
       "  </thead>\n",
       "  <tbody>\n",
       "    <tr>\n",
       "      <th>0</th>\n",
       "      <td>1/3/2012</td>\n",
       "      <td>325.25</td>\n",
       "      <td>332.83</td>\n",
       "      <td>324.97</td>\n",
       "      <td>663.59</td>\n",
       "      <td>7,380,500</td>\n",
       "    </tr>\n",
       "    <tr>\n",
       "      <th>1</th>\n",
       "      <td>1/4/2012</td>\n",
       "      <td>331.27</td>\n",
       "      <td>333.87</td>\n",
       "      <td>329.08</td>\n",
       "      <td>666.45</td>\n",
       "      <td>5,749,400</td>\n",
       "    </tr>\n",
       "    <tr>\n",
       "      <th>2</th>\n",
       "      <td>1/5/2012</td>\n",
       "      <td>329.83</td>\n",
       "      <td>330.75</td>\n",
       "      <td>326.89</td>\n",
       "      <td>657.21</td>\n",
       "      <td>6,590,300</td>\n",
       "    </tr>\n",
       "    <tr>\n",
       "      <th>3</th>\n",
       "      <td>1/6/2012</td>\n",
       "      <td>328.34</td>\n",
       "      <td>328.77</td>\n",
       "      <td>323.68</td>\n",
       "      <td>648.24</td>\n",
       "      <td>5,405,900</td>\n",
       "    </tr>\n",
       "    <tr>\n",
       "      <th>4</th>\n",
       "      <td>1/9/2012</td>\n",
       "      <td>322.04</td>\n",
       "      <td>322.29</td>\n",
       "      <td>309.46</td>\n",
       "      <td>620.76</td>\n",
       "      <td>11,688,800</td>\n",
       "    </tr>\n",
       "  </tbody>\n",
       "</table>\n",
       "</div>"
      ],
      "text/plain": [
       "       Date    Open    High     Low   Close      Volume\n",
       "0  1/3/2012  325.25  332.83  324.97  663.59   7,380,500\n",
       "1  1/4/2012  331.27  333.87  329.08  666.45   5,749,400\n",
       "2  1/5/2012  329.83  330.75  326.89  657.21   6,590,300\n",
       "3  1/6/2012  328.34  328.77  323.68  648.24   5,405,900\n",
       "4  1/9/2012  322.04  322.29  309.46  620.76  11,688,800"
      ]
     },
     "execution_count": 3,
     "metadata": {},
     "output_type": "execute_result"
    }
   ],
   "source": [
    "train.head()"
   ]
  },
  {
   "cell_type": "code",
   "execution_count": 4,
   "id": "489d7fdd",
   "metadata": {},
   "outputs": [
    {
     "data": {
      "text/plain": [
       "(1258, 6)"
      ]
     },
     "execution_count": 4,
     "metadata": {},
     "output_type": "execute_result"
    }
   ],
   "source": [
    "train.shape"
   ]
  },
  {
   "cell_type": "code",
   "execution_count": 5,
   "id": "c7fa8ece",
   "metadata": {},
   "outputs": [],
   "source": [
    "A=train.to_numpy()[:,1:2]"
   ]
  },
  {
   "cell_type": "code",
   "execution_count": 6,
   "id": "6da2ed79",
   "metadata": {},
   "outputs": [],
   "source": [
    "from sklearn.preprocessing import MinMaxScaler\n",
    "sc = MinMaxScaler(feature_range = (0, 1))\n",
    "A_scaled = sc.fit_transform(A)\n",
    "\n",
    "xtrain=[]\n",
    "ytrain=[]\n",
    "for i in range(60,1258):\n",
    "    xtrain.append(A_scaled[i-60:i,0])\n",
    "    ytrain.append(A_scaled[i,0])\n",
    "\n",
    "xtrain=np.array(xtrain)\n",
    "ytrain=np.array(ytrain)"
   ]
  },
  {
   "cell_type": "code",
   "execution_count": 7,
   "id": "d924a2b0",
   "metadata": {},
   "outputs": [
    {
     "data": {
      "text/plain": [
       "dtype('float64')"
      ]
     },
     "execution_count": 7,
     "metadata": {},
     "output_type": "execute_result"
    }
   ],
   "source": [
    "A_scaled.dtype"
   ]
  },
  {
   "cell_type": "code",
   "execution_count": 8,
   "id": "af9c3330",
   "metadata": {},
   "outputs": [],
   "source": [
    "xtrain = np.reshape(xtrain, (xtrain.shape[0], xtrain.shape[1], 1))"
   ]
  },
  {
   "cell_type": "code",
   "execution_count": 9,
   "id": "f0a67e2d",
   "metadata": {},
   "outputs": [
    {
     "name": "stdout",
     "output_type": "stream",
     "text": [
      "Model: \"sequential\"\n",
      "_________________________________________________________________\n",
      "Layer (type)                 Output Shape              Param #   \n",
      "=================================================================\n",
      "lstm (LSTM)                  (None, 60, 50)            10400     \n",
      "_________________________________________________________________\n",
      "dropout (Dropout)            (None, 60, 50)            0         \n",
      "_________________________________________________________________\n",
      "lstm_1 (LSTM)                (None, 60, 50)            20200     \n",
      "_________________________________________________________________\n",
      "dropout_1 (Dropout)          (None, 60, 50)            0         \n",
      "_________________________________________________________________\n",
      "lstm_2 (LSTM)                (None, 60, 50)            20200     \n",
      "_________________________________________________________________\n",
      "dropout_2 (Dropout)          (None, 60, 50)            0         \n",
      "_________________________________________________________________\n",
      "dense (Dense)                (None, 60, 1)             51        \n",
      "=================================================================\n",
      "Total params: 50,851\n",
      "Trainable params: 50,851\n",
      "Non-trainable params: 0\n",
      "_________________________________________________________________\n"
     ]
    }
   ],
   "source": [
    "import tensorflow as tf\n",
    "\n",
    "model=tf.keras.Sequential()\n",
    "\n",
    "model.add(tf.keras.layers.LSTM(units=50,return_sequences=True,input_shape=(xtrain.shape[1],1)))\n",
    "model.add(tf.keras.layers.Dropout(0.2))\n",
    "\n",
    "model.add(tf.keras.layers.LSTM(units=50,return_sequences=True))\n",
    "model.add(tf.keras.layers.Dropout(0.2))\n",
    "\n",
    "model.add(tf.keras.layers.LSTM(units=50,return_sequences=True))\n",
    "model.add(tf.keras.layers.Dropout(0.2))\n",
    "\n",
    "model.add(tf.keras.layers.Dense(units=1))\n",
    "\n",
    "model.compile(optimizer=\"adam\",loss=\"mean_squared_error\",metrics=[\"accuracy\"])\n",
    "model.summary()"
   ]
  },
  {
   "cell_type": "code",
   "execution_count": 10,
   "id": "e8ce71aa",
   "metadata": {},
   "outputs": [
    {
     "name": "stdout",
     "output_type": "stream",
     "text": [
      "Epoch 1/10\n",
      "38/38 [==============================] - 10s 72ms/step - loss: 0.0747 - accuracy: 0.0015\n",
      "Epoch 2/10\n",
      "38/38 [==============================] - 2s 58ms/step - loss: 0.0259 - accuracy: 0.0016\n",
      "Epoch 3/10\n",
      "38/38 [==============================] - 2s 61ms/step - loss: 0.0204 - accuracy: 0.0016\n",
      "Epoch 4/10\n",
      "38/38 [==============================] - 2s 60ms/step - loss: 0.0174 - accuracy: 0.0016\n",
      "Epoch 5/10\n",
      "38/38 [==============================] - 2s 60ms/step - loss: 0.0154 - accuracy: 0.0016\n",
      "Epoch 6/10\n",
      "38/38 [==============================] - 2s 62ms/step - loss: 0.0140 - accuracy: 0.0016\n",
      "Epoch 7/10\n",
      "38/38 [==============================] - 2s 61ms/step - loss: 0.0131 - accuracy: 0.0016\n",
      "Epoch 8/10\n",
      "38/38 [==============================] - 2s 60ms/step - loss: 0.0121 - accuracy: 0.0016\n",
      "Epoch 9/10\n",
      "38/38 [==============================] - 2s 57ms/step - loss: 0.0115 - accuracy: 0.0017\n",
      "Epoch 10/10\n",
      "38/38 [==============================] - 2s 62ms/step - loss: 0.0109 - accuracy: 0.0016\n"
     ]
    }
   ],
   "source": [
    "history=model.fit(xtrain,ytrain,epochs=10,batch_size=32)"
   ]
  },
  {
   "cell_type": "code",
   "execution_count": 12,
   "id": "e10c847a",
   "metadata": {},
   "outputs": [
    {
     "data": {
      "text/html": [
       "<div>\n",
       "<style scoped>\n",
       "    .dataframe tbody tr th:only-of-type {\n",
       "        vertical-align: middle;\n",
       "    }\n",
       "\n",
       "    .dataframe tbody tr th {\n",
       "        vertical-align: top;\n",
       "    }\n",
       "\n",
       "    .dataframe thead th {\n",
       "        text-align: right;\n",
       "    }\n",
       "</style>\n",
       "<table border=\"1\" class=\"dataframe\">\n",
       "  <thead>\n",
       "    <tr style=\"text-align: right;\">\n",
       "      <th></th>\n",
       "      <th>Date</th>\n",
       "      <th>Open</th>\n",
       "      <th>High</th>\n",
       "      <th>Low</th>\n",
       "      <th>Close</th>\n",
       "      <th>Volume</th>\n",
       "    </tr>\n",
       "  </thead>\n",
       "  <tbody>\n",
       "    <tr>\n",
       "      <th>0</th>\n",
       "      <td>1/3/2012</td>\n",
       "      <td>325.25</td>\n",
       "      <td>332.83</td>\n",
       "      <td>324.97</td>\n",
       "      <td>663.59</td>\n",
       "      <td>7,380,500</td>\n",
       "    </tr>\n",
       "    <tr>\n",
       "      <th>1</th>\n",
       "      <td>1/4/2012</td>\n",
       "      <td>331.27</td>\n",
       "      <td>333.87</td>\n",
       "      <td>329.08</td>\n",
       "      <td>666.45</td>\n",
       "      <td>5,749,400</td>\n",
       "    </tr>\n",
       "    <tr>\n",
       "      <th>2</th>\n",
       "      <td>1/5/2012</td>\n",
       "      <td>329.83</td>\n",
       "      <td>330.75</td>\n",
       "      <td>326.89</td>\n",
       "      <td>657.21</td>\n",
       "      <td>6,590,300</td>\n",
       "    </tr>\n",
       "    <tr>\n",
       "      <th>3</th>\n",
       "      <td>1/6/2012</td>\n",
       "      <td>328.34</td>\n",
       "      <td>328.77</td>\n",
       "      <td>323.68</td>\n",
       "      <td>648.24</td>\n",
       "      <td>5,405,900</td>\n",
       "    </tr>\n",
       "    <tr>\n",
       "      <th>4</th>\n",
       "      <td>1/9/2012</td>\n",
       "      <td>322.04</td>\n",
       "      <td>322.29</td>\n",
       "      <td>309.46</td>\n",
       "      <td>620.76</td>\n",
       "      <td>11,688,800</td>\n",
       "    </tr>\n",
       "  </tbody>\n",
       "</table>\n",
       "</div>"
      ],
      "text/plain": [
       "       Date    Open    High     Low   Close      Volume\n",
       "0  1/3/2012  325.25  332.83  324.97  663.59   7,380,500\n",
       "1  1/4/2012  331.27  333.87  329.08  666.45   5,749,400\n",
       "2  1/5/2012  329.83  330.75  326.89  657.21   6,590,300\n",
       "3  1/6/2012  328.34  328.77  323.68  648.24   5,405,900\n",
       "4  1/9/2012  322.04  322.29  309.46  620.76  11,688,800"
      ]
     },
     "execution_count": 12,
     "metadata": {},
     "output_type": "execute_result"
    }
   ],
   "source": [
    "B=pd.read_csv(\"C:/Users/Alisha/Desktop/Files/Google_Stock_Price_Test.csv\")\n",
    "B.head()"
   ]
  },
  {
   "cell_type": "code",
   "execution_count": 13,
   "id": "01a0fa58",
   "metadata": {},
   "outputs": [],
   "source": [
    "real_stock_price=B.to_numpy()[:,1:2]"
   ]
  },
  {
   "cell_type": "code",
   "execution_count": 14,
   "id": "37b47b7b",
   "metadata": {},
   "outputs": [],
   "source": [
    "tot = pd.concat((train['Open'], B['Open']), axis = 0)\n",
    "C = tot[len(tot) - len(B) - 60:].values\n",
    "C = C.reshape(-1,1)\n",
    "C = sc.transform(C)"
   ]
  },
  {
   "cell_type": "code",
   "execution_count": 15,
   "id": "93035d86",
   "metadata": {},
   "outputs": [],
   "source": [
    "xtest = []\n",
    "ytest=[]\n",
    "for i in range(60, 80):\n",
    "    xtest.append(C[i-60:i, 0])\n",
    "    ytest.append(C[i,0])\n",
    "xtest,ytest = np.array(xtest),np.array(ytest)\n",
    "xtest = np.reshape(xtest, (xtest.shape[0], xtest.shape[1], 1))\n",
    "pred = model.predict(xtest)"
   ]
  },
  {
   "cell_type": "code",
   "execution_count": 16,
   "id": "9969f475",
   "metadata": {},
   "outputs": [],
   "source": [
    "pred=pred.reshape(20,60)\n",
    "pred = sc.inverse_transform(pred)"
   ]
  },
  {
   "cell_type": "code",
   "execution_count": 19,
   "id": "a2e07ee6",
   "metadata": {},
   "outputs": [
    {
     "data": {
      "text/plain": [
       "array([[[0.9299055 ],\n",
       "        [0.93113327],\n",
       "        [0.92750577],\n",
       "        ...,\n",
       "        [0.95725128],\n",
       "        [0.93796041],\n",
       "        [0.93688146]],\n",
       "\n",
       "       [[0.93113327],\n",
       "        [0.92750577],\n",
       "        [0.94415507],\n",
       "        ...,\n",
       "        [0.93796041],\n",
       "        [0.93688146],\n",
       "        [0.08581368]],\n",
       "\n",
       "       [[0.92750577],\n",
       "        [0.94415507],\n",
       "        [0.93876032],\n",
       "        ...,\n",
       "        [0.93688146],\n",
       "        [0.08581368],\n",
       "        [0.09701243]],\n",
       "\n",
       "       ...,\n",
       "\n",
       "       [[0.96054394],\n",
       "        [0.9371419 ],\n",
       "        [0.92841729],\n",
       "        ...,\n",
       "        [0.02409033],\n",
       "        [0.0159238 ],\n",
       "        [0.01078949]],\n",
       "\n",
       "       [[0.9371419 ],\n",
       "        [0.92841729],\n",
       "        [0.90804747],\n",
       "        ...,\n",
       "        [0.0159238 ],\n",
       "        [0.01078949],\n",
       "        [0.00967334]],\n",
       "\n",
       "       [[0.92841729],\n",
       "        [0.90804747],\n",
       "        [0.8771858 ],\n",
       "        ...,\n",
       "        [0.01078949],\n",
       "        [0.00967334],\n",
       "        [0.01642607]]])"
      ]
     },
     "execution_count": 19,
     "metadata": {},
     "output_type": "execute_result"
    }
   ],
   "source": [
    "xtest"
   ]
  },
  {
   "cell_type": "code",
   "execution_count": 20,
   "id": "16da20f1",
   "metadata": {},
   "outputs": [
    {
     "data": {
      "text/plain": [
       "array([[430.29416, 559.9009 , 675.93604, ..., 776.42596, 775.52856,\n",
       "        774.1764 ],\n",
       "       [430.36407, 559.7949 , 676.8871 , ..., 775.52844, 774.1763 ,\n",
       "        730.8183 ],\n",
       "       [430.1576 , 560.51337, 678.01605, ..., 774.1762 , 730.8182 ,\n",
       "        668.30365],\n",
       "       ...,\n",
       "       [432.04605, 563.84906, 680.67755, ..., 318.6922 , 314.73273,\n",
       "        309.7125 ],\n",
       "       [430.70657, 560.5489 , 675.11505, ..., 314.732  , 309.7117 ,\n",
       "        304.21887],\n",
       "       [430.20944, 558.16034, 669.31665, ..., 309.71097, 304.21814,\n",
       "        299.09412]], dtype=float32)"
      ]
     },
     "execution_count": 20,
     "metadata": {},
     "output_type": "execute_result"
    }
   ],
   "source": [
    "pred"
   ]
  },
  {
   "cell_type": "code",
   "execution_count": 21,
   "id": "5c54fd7c",
   "metadata": {},
   "outputs": [
    {
     "data": {
      "text/plain": [
       "array([0.08581368, 0.09701243, 0.09433366, 0.09156187, 0.07984225,\n",
       "       0.0643277 , 0.0585423 , 0.06568569, 0.06109085, 0.06639259,\n",
       "       0.0614257 , 0.07474514, 0.02797827, 0.02379269, 0.02409033,\n",
       "       0.0159238 , 0.01078949, 0.00967334, 0.01642607, 0.02100231])"
      ]
     },
     "execution_count": 21,
     "metadata": {},
     "output_type": "execute_result"
    }
   ],
   "source": [
    "ytest"
   ]
  },
  {
   "cell_type": "code",
   "execution_count": null,
   "id": "6a6c13b9",
   "metadata": {},
   "outputs": [],
   "source": []
  }
 ],
 "metadata": {
  "kernelspec": {
   "display_name": "Python 3 (ipykernel)",
   "language": "python",
   "name": "python3"
  },
  "language_info": {
   "codemirror_mode": {
    "name": "ipython",
    "version": 3
   },
   "file_extension": ".py",
   "mimetype": "text/x-python",
   "name": "python",
   "nbconvert_exporter": "python",
   "pygments_lexer": "ipython3",
   "version": "3.8.11"
  }
 },
 "nbformat": 4,
 "nbformat_minor": 5
}
